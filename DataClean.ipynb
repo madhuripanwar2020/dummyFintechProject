{
 "cells": [
  {
   "cell_type": "code",
   "execution_count": 1,
   "id": "ea93e3b9-5986-4d6b-93cf-b63ab7b5f478",
   "metadata": {},
   "outputs": [
    {
     "name": "stdout",
     "output_type": "stream",
     "text": [
      "testing\n"
     ]
    }
   ],
   "source": [
    "print(\"testing branch\")"
   ]
  },
  {
   "cell_type": "code",
   "execution_count": null,
   "id": "423efb23-4a55-4bdb-af5a-777a3993e5c8",
   "metadata": {},
   "outputs": [],
   "source": []
  },
  {
   "cell_type": "code",
   "execution_count": null,
   "id": "87f949db-da9a-4eb4-9c81-72ac99dda2d2",
   "metadata": {},
   "outputs": [],
   "source": []
  }
 ],
 "metadata": {
  "kernelspec": {
   "display_name": "Python 3",
   "language": "python",
   "name": "python3"
  },
  "language_info": {
   "codemirror_mode": {
    "name": "ipython",
    "version": 3
   },
   "file_extension": ".py",
   "mimetype": "text/x-python",
   "name": "python",
   "nbconvert_exporter": "python",
   "pygments_lexer": "ipython3",
   "version": "3.8.8"
  }
 },
 "nbformat": 4,
 "nbformat_minor": 5
}
